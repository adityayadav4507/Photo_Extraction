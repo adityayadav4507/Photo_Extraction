{
  "nbformat": 4,
  "nbformat_minor": 0,
  "metadata": {
    "colab": {
      "provenance": [],
      "authorship_tag": "ABX9TyM+GaD3d9gkgoxd34/6+IM5",
      "include_colab_link": true
    },
    "kernelspec": {
      "name": "python3",
      "display_name": "Python 3"
    },
    "language_info": {
      "name": "python"
    }
  },
  "cells": [
    {
      "cell_type": "markdown",
      "metadata": {
        "id": "view-in-github",
        "colab_type": "text"
      },
      "source": [
        "<a href=\"https://colab.research.google.com/github/adityayadav4507/Photo_Extraction/blob/main/Extract_deleted_photos_from_gallery.ipynb\" target=\"_parent\"><img src=\"https://colab.research.google.com/assets/colab-badge.svg\" alt=\"Open In Colab\"/></a>"
      ]
    },
    {
      "cell_type": "markdown",
      "source": [],
      "metadata": {
        "id": "89yI45M6TCDX"
      }
    },
    {
      "cell_type": "markdown",
      "source": [
        "# Step 1: Prepare Your Android Phone\n",
        "\n",
        "**1**. **Enable Developer Options:**\n",
        "\n",
        "   Go to Settings > About Phone\n",
        "\n",
        "  Tap Build Number 7 times until you see “You are now a developer!”\n",
        "\n",
        "**2**. **Enable USB Debugging:**\n",
        "\n",
        "   Go to Settings > System > Developer Options\n",
        "\n",
        "  Find USB Debugging and turn it ON\n",
        "\n",
        "  Confirm any pop-ups asking permission"
      ],
      "metadata": {
        "id": "JRmHJfnKTCu3"
      }
    },
    {
      "cell_type": "code",
      "execution_count": null,
      "metadata": {
        "id": "lY2_S3TESvNe"
      },
      "outputs": [],
      "source": []
    },
    {
      "cell_type": "markdown",
      "source": [
        "# Step 2: Install Homebrew\n",
        "Open Terminal on your Mac.\n",
        "\n",
        "Paste this command and press Enter"
      ],
      "metadata": {
        "id": "IxCrlTeFTTOm"
      }
    },
    {
      "cell_type": "code",
      "source": [
        "/bin/bash -c \"$(curl -fsSL https://raw.githubusercontent.com/Homebrew/install/HEAD/install.sh)\"\n"
      ],
      "metadata": {
        "id": "-sWfhQ18T01u"
      },
      "execution_count": null,
      "outputs": []
    },
    {
      "cell_type": "markdown",
      "source": [
        "**check version**"
      ],
      "metadata": {
        "id": "_90dyBakT5kC"
      }
    },
    {
      "cell_type": "code",
      "source": [
        "brew --version"
      ],
      "metadata": {
        "id": "p9MknMiUT-em"
      },
      "execution_count": null,
      "outputs": []
    },
    {
      "cell_type": "markdown",
      "source": [
        "#Step 3: Now Install ADB\n"
      ],
      "metadata": {
        "id": "nA84uI6VUKie"
      }
    },
    {
      "cell_type": "code",
      "source": [
        "brew install android-platform-tools\n"
      ],
      "metadata": {
        "id": "31J2_ZLvUTX0"
      },
      "execution_count": null,
      "outputs": []
    },
    {
      "cell_type": "markdown",
      "source": [
        "*` if brew path not found `*\n",
        "yourusername(ex-adityayadav)"
      ],
      "metadata": {
        "id": "Qp3cFdRdUvb6"
      }
    },
    {
      "cell_type": "code",
      "source": [
        "echo >> /Users/adityayadav/.zprofile\n",
        "echo 'eval \"$(/opt/homebrew/bin/brew shellenv)\"' >> /Users/adityayadav/.zprofile\n",
        "eval \"$(/opt/homebrew/bin/brew shellenv)\"\n"
      ],
      "metadata": {
        "id": "SAxq2SYcU8WM"
      },
      "execution_count": null,
      "outputs": []
    },
    {
      "cell_type": "markdown",
      "source": [
        "#Step 4: Connect Your Phone to Mac\n",
        "**1.** Connect your Android phone to your Mac using a USB cable.\n",
        "\n",
        "**2.** When prompted on your phone, allow USB Debugging permission.\n",
        "\n",
        "**3.** Set USB mode to File Transfer (MTP) on your phone for best compatibility."
      ],
      "metadata": {
        "id": "gJ6PUmrSVaCK"
      }
    },
    {
      "cell_type": "markdown",
      "source": [
        "#Step 5: Verify Connection with ADB"
      ],
      "metadata": {
        "id": "krwgDpF-VrHH"
      }
    },
    {
      "cell_type": "code",
      "source": [
        "adb devices\n"
      ],
      "metadata": {
        "id": "OgZuZY8bVSh8"
      },
      "execution_count": null,
      "outputs": []
    },
    {
      "cell_type": "code",
      "source": [
        "if your phone is connected properly, you’ll see a device ID and “device” status, like:\n",
        "  List of devices attached\n",
        "          ZX1G22XYZ    device"
      ],
      "metadata": {
        "id": "9WMyfbWsVuV_"
      },
      "execution_count": null,
      "outputs": []
    },
    {
      "cell_type": "markdown",
      "source": [
        "#Step 6: Create a Folder on Your Mac to Store Photos"
      ],
      "metadata": {
        "id": "m3OqXcP1V7fy"
      }
    },
    {
      "cell_type": "code",
      "source": [
        "mkdir ~/Desktop/PhonePhotos\n"
      ],
      "metadata": {
        "id": "sW7_sexVV9be"
      },
      "execution_count": null,
      "outputs": []
    },
    {
      "cell_type": "markdown",
      "source": [
        "# Step 7: Find all image in phone"
      ],
      "metadata": {
        "id": "38O4OgrfWCR5"
      }
    },
    {
      "cell_type": "code",
      "source": [
        "adb shell \"find /sdcard/ -type f \\( -iname '*.jpg' -o -iname '*.jpeg' -o -iname '*.png' -o -iname '*.webp' -o -iname '*.gif' \\) > /sdcard/all_images.txt\"\n"
      ],
      "metadata": {
        "id": "a0JOv_CLV_Sx"
      },
      "execution_count": null,
      "outputs": []
    },
    {
      "cell_type": "code",
      "source": [
        "this command create all_images.text file in PhonePhotos folder\n",
        "this fil have path of all images which have in phone storage"
      ],
      "metadata": {
        "id": "4sVQDNEvXAKV"
      },
      "execution_count": null,
      "outputs": []
    },
    {
      "cell_type": "code",
      "source": [
        "adb pull /sdcard/all_images.txt ~/Desktop/PhonePhotos/\n",
        "\n",
        "# after this code the .text file show"
      ],
      "metadata": {
        "id": "ORwlAySfci-4"
      },
      "execution_count": null,
      "outputs": []
    },
    {
      "cell_type": "markdown",
      "source": [
        "# Step 8: extract all images"
      ],
      "metadata": {
        "id": "GUHvSQpmXXMQ"
      }
    },
    {
      "cell_type": "code",
      "source": [
        "# 1.go to the folder\n",
        "\n",
        "cd ~/Desktop/PhonePhotos/"
      ],
      "metadata": {
        "id": "0KN1nWPHcWe3"
      },
      "execution_count": null,
      "outputs": []
    },
    {
      "cell_type": "code",
      "source": [
        "# 2.create folder of all photos\n",
        "\n",
        "mkdir All\n",
        "\n",
        "# 3.Run This Script to Pull All Images\n",
        "\n",
        "while read -r line; do\n",
        "  adb pull \"$line\" All/\n",
        "done < all_images.txt\n",
        "\n"
      ],
      "metadata": {
        "id": "qLNWnRXfX0N3"
      },
      "execution_count": null,
      "outputs": []
    },
    {
      "cell_type": "code",
      "source": [],
      "metadata": {
        "id": "RCZ2rI2yX09c"
      },
      "execution_count": null,
      "outputs": []
    }
  ]
}